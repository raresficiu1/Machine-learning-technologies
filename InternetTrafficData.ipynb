{
 "cells": [
  {
   "cell_type": "code",
   "execution_count": 60,
   "metadata": {},
   "outputs": [],
   "source": [
    "import sklearn.datasets as sk\n",
    "import sklearn.model_selection as skm\n",
    "from sklearn.tree import DecisionTreeClassifier\n",
    "import numpy as np\n",
    "from sklearn.metrics import f1_score\n",
    "from sklearn.ensemble import RandomForestClassifier\n",
    "from skimage import data, io, filters\n",
    "import pandas as pd\n",
    "import tensorflow as tf\n",
    "from math import sqrt\n",
    "import matplotlib.pyplot as plt"
   ]
  },
  {
   "cell_type": "code",
   "execution_count": 2,
   "metadata": {
    "scrolled": true
   },
   "outputs": [
    {
     "name": "stdout",
     "output_type": "stream",
     "text": [
      "/home/zaioox/Downloads\n"
     ]
    }
   ],
   "source": [
    "cd ../Downloads"
   ]
  },
  {
   "cell_type": "code",
   "execution_count": 3,
   "metadata": {},
   "outputs": [],
   "source": [
    "digits = sk.load_digits(n_class=10, return_X_y=False)"
   ]
  },
  {
   "cell_type": "code",
   "execution_count": 4,
   "metadata": {},
   "outputs": [],
   "source": [
    "x_train, x_test, y_train, y_test = skm.train_test_split(digits['data'],digits['target'],test_size=0.2205)"
   ]
  },
  {
   "cell_type": "code",
   "execution_count": 5,
   "metadata": {},
   "outputs": [],
   "source": [
    "decision_tree=DecisionTreeClassifier(max_depth=13,min_samples_leaf=1,min_samples_split=3)"
   ]
  },
  {
   "cell_type": "code",
   "execution_count": 6,
   "metadata": {},
   "outputs": [
    {
     "name": "stdout",
     "output_type": "stream",
     "text": [
      "0.8060453400503778 0.9871428571428571\n"
     ]
    }
   ],
   "source": [
    "decision_tree.fit(x_train,y_train)\n",
    "a1=decision_tree.predict(x_test)\n",
    "b1=decision_tree.predict(x_train)\n",
    "test1=f1_score(y_test,a1,average='micro')\n",
    "train1=f1_score(y_train,b1,average='micro')\n",
    "print(test1,train1)"
   ]
  },
  {
   "cell_type": "code",
   "execution_count": 7,
   "metadata": {},
   "outputs": [
    {
     "name": "stdout",
     "output_type": "stream",
     "text": [
      "0.9722921914357683 1.0\n"
     ]
    }
   ],
   "source": [
    "rnd_clf=RandomForestClassifier(n_estimators=100,max_depth=14,n_jobs=-1)\n",
    "rnd_clf.fit(x_train,y_train)\n",
    "a=rnd_clf.predict(x_test)\n",
    "b=rnd_clf.predict(x_train)\n",
    "test=f1_score(y_test,a,average='micro')\n",
    "train=f1_score(y_train,b,average='micro')\n",
    "print(test,train)"
   ]
  },
  {
   "cell_type": "code",
   "execution_count": 8,
   "metadata": {},
   "outputs": [],
   "source": [
    "x_train1=x_train.reshape(5,280,64)\n",
    "y_train1=y_train.reshape(5,280)"
   ]
  },
  {
   "cell_type": "code",
   "execution_count": 9,
   "metadata": {},
   "outputs": [],
   "source": [
    "decisionbagging=[]\n",
    "decisionbaggingPredictions=[0,1,2,3,4]\n",
    "for i in range(5):\n",
    "    decisionbagging.append(DecisionTreeClassifier(max_depth=13,min_samples_leaf=1,min_samples_split=3))\n",
    "    decisionbagging[i].fit(x_train1[i],y_train1[i])\n",
    "    decisionbaggingPredictions[i]=decisionbagging[i].predict(x_test)\n",
    "decisionbaggingPredictions=np.array(decisionbaggingPredictions)\n",
    "y_predicted=np.zeros(decisionbaggingPredictions.shape[1])\n",
    "\n",
    "for i in range(decisionbaggingPredictions.shape[1]):\n",
    "    y_predicted_helper=np.zeros(10)\n",
    "    for j in range(decisionbaggingPredictions.shape[0]):\n",
    "        y_predicted_helper[decisionbaggingPredictions[j][i]]+=1\n",
    "    max=0\n",
    "    index=0\n",
    "    for j in range(10):\n",
    "        if(y_predicted_helper[j]>max):\n",
    "            max=y_predicted_helper[j]\n",
    "            index=j\n",
    "    y_predicted[i]=index"
   ]
  },
  {
   "cell_type": "code",
   "execution_count": 10,
   "metadata": {},
   "outputs": [
    {
     "name": "stdout",
     "output_type": "stream",
     "text": [
      "With 5 trees the accuracy is:  0.8161209068010076  with 1 tree the accuracy is  0.8060453400503778\n"
     ]
    }
   ],
   "source": [
    "print(\"With 5 trees the accuracy is: \",f1_score(y_test,y_predicted,average='micro'),\" with 1 tree the accuracy is \", test1)"
   ]
  },
  {
   "cell_type": "code",
   "execution_count": 11,
   "metadata": {},
   "outputs": [],
   "source": [
    "pictureX=[]\n",
    "trueVals=[]\n",
    "for i in range(len(y_test)):\n",
    "    if(a[i]!=y_test[i]):\n",
    "        pictureX.append(x_test[i].reshape(8,8))\n",
    "        trueVals.append(y_test[i])\n"
   ]
  },
  {
   "cell_type": "code",
   "execution_count": 12,
   "metadata": {},
   "outputs": [
    {
     "name": "stdout",
     "output_type": "stream",
     "text": [
      "This image is a : 9\n"
     ]
    },
    {
     "name": "stderr",
     "output_type": "stream",
     "text": [
      "/home/zaioox/.conda/envs/ML/lib/python3.6/site-packages/skimage/io/_plugins/matplotlib_plugin.py:80: UserWarning: Float image out of standard range; displaying image with stretched contrast.\n",
      "  warn(\"Float image out of standard range; displaying \"\n"
     ]
    },
    {
     "data": {
      "text/plain": [
       "<matplotlib.image.AxesImage at 0x7fe019423320>"
      ]
     },
     "execution_count": 12,
     "metadata": {},
     "output_type": "execute_result"
    },
    {
     "data": {
      "image/png": "[encoded data removed]",
      "text/plain": [
       "<Figure size 432x288 with 2 Axes>"
      ]
     },
     "metadata": {
      "needs_background": "light"
     },
     "output_type": "display_data"
    }
   ],
   "source": [
    "print(\"This image is a :\",trueVals[0])\n",
    "io.imshow(pictureX[0])"
   ]
  },
  {
   "cell_type": "code",
   "execution_count": 13,
   "metadata": {},
   "outputs": [
    {
     "name": "stdout",
     "output_type": "stream",
     "text": [
      "This image is a : 3\n"
     ]
    },
    {
     "name": "stderr",
     "output_type": "stream",
     "text": [
      "/home/zaioox/.conda/envs/ML/lib/python3.6/site-packages/skimage/io/_plugins/matplotlib_plugin.py:80: UserWarning: Float image out of standard range; displaying image with stretched contrast.\n",
      "  warn(\"Float image out of standard range; displaying \"\n"
     ]
    },
    {
     "data": {
      "text/plain": [
       "<matplotlib.image.AxesImage at 0x7fe019614710>"
      ]
     },
     "execution_count": 13,
     "metadata": {},
     "output_type": "execute_result"
    },
    {
     "data": {
      "image/png": "[encoded data removed]",
      "text/plain": [
       "<Figure size 432x288 with 2 Axes>"
      ]
     },
     "metadata": {
      "needs_background": "light"
     },
     "output_type": "display_data"
    }
   ],
   "source": [
    "print(\"This image is a :\",trueVals[1])\n",
    "io.imshow(pictureX[1])"
   ]
  },
  {
   "cell_type": "code",
   "execution_count": 14,
   "metadata": {},
   "outputs": [
    {
     "name": "stdout",
     "output_type": "stream",
     "text": [
      "This image is a : 5\n"
     ]
    },
    {
     "name": "stderr",
     "output_type": "stream",
     "text": [
      "/home/zaioox/.conda/envs/ML/lib/python3.6/site-packages/skimage/io/_plugins/matplotlib_plugin.py:80: UserWarning: Float image out of standard range; displaying image with stretched contrast.\n",
      "  warn(\"Float image out of standard range; displaying \"\n"
     ]
    },
    {
     "data": {
      "text/plain": [
       "<matplotlib.image.AxesImage at 0x7fe01953beb8>"
      ]
     },
     "execution_count": 14,
     "metadata": {},
     "output_type": "execute_result"
    },
    {
     "data": {
      "image/png": "[encoded data removed]",
      "text/plain": [
       "<Figure size 432x288 with 2 Axes>"
      ]
     },
     "metadata": {
      "needs_background": "light"
     },
     "output_type": "display_data"
    }
   ],
   "source": [
    "print(\"This image is a :\",trueVals[2])\n",
    "io.imshow(pictureX[2])"
   ]
  },
  {
   "cell_type": "code",
   "execution_count": 15,
   "metadata": {},
   "outputs": [
    {
     "name": "stdout",
     "output_type": "stream",
     "text": [
      "This image is a : 8\n"
     ]
    },
    {
     "name": "stderr",
     "output_type": "stream",
     "text": [
      "/home/zaioox/.conda/envs/ML/lib/python3.6/site-packages/skimage/io/_plugins/matplotlib_plugin.py:80: UserWarning: Float image out of standard range; displaying image with stretched contrast.\n",
      "  warn(\"Float image out of standard range; displaying \"\n"
     ]
    },
    {
     "data": {
      "text/plain": [
       "<matplotlib.image.AxesImage at 0x7fe01946c5c0>"
      ]
     },
     "execution_count": 15,
     "metadata": {},
     "output_type": "execute_result"
    },
    {
     "data": {
      "image/png": "[encoded data removed]",
      "text/plain": [
       "<Figure size 432x288 with 2 Axes>"
      ]
     },
     "metadata": {
      "needs_background": "light"
     },
     "output_type": "display_data"
    }
   ],
   "source": [
    "print(\"This image is a :\",trueVals[3])\n",
    "io.imshow(pictureX[3])"
   ]
  },
  {
   "cell_type": "code",
   "execution_count": 16,
   "metadata": {},
   "outputs": [],
   "source": [
    "file='internet-traffic-data-in-bits-fr.xlsx'"
   ]
  },
  {
   "cell_type": "code",
   "execution_count": 17,
   "metadata": {},
   "outputs": [],
   "source": [
    "x1=pd.ExcelFile(file)"
   ]
  },
  {
   "cell_type": "code",
   "execution_count": 18,
   "metadata": {},
   "outputs": [
    {
     "data": {
      "text/html": [
       "<div>\n",
       "<style scoped>\n",
       "    .dataframe tbody tr th:only-of-type {\n",
       "        vertical-align: middle;\n",
       "    }\n",
       "\n",
       "    .dataframe tbody tr th {\n",
       "        vertical-align: top;\n",
       "    }\n",
       "\n",
       "    .dataframe thead th {\n",
       "        text-align: right;\n",
       "    }\n",
       "</style>\n",
       "<table border=\"1\" class=\"dataframe\">\n",
       "  <thead>\n",
       "    <tr style=\"text-align: right;\">\n",
       "      <th></th>\n",
       "      <th>Time</th>\n",
       "      <th>Internet traffic data (in bits) from an ISP. Aggregated traffic in the United Kingdom academic network backbone. It was collected between 19 November 2004, at 09:30 hours and 27 January 2005, at 11:11 hours. Data collected at five minute intervals.</th>\n",
       "      <th>Unnamed: 2</th>\n",
       "    </tr>\n",
       "  </thead>\n",
       "  <tbody>\n",
       "    <tr>\n",
       "      <th>0</th>\n",
       "      <td>2004-11-19 09:30:00</td>\n",
       "      <td>4838.66</td>\n",
       "      <td>NaN</td>\n",
       "    </tr>\n",
       "    <tr>\n",
       "      <th>1</th>\n",
       "      <td>2004-11-19 09:35:00</td>\n",
       "      <td>4845.18</td>\n",
       "      <td>NaN</td>\n",
       "    </tr>\n",
       "    <tr>\n",
       "      <th>2</th>\n",
       "      <td>2004-11-19 09:40:00</td>\n",
       "      <td>5158</td>\n",
       "      <td>NaN</td>\n",
       "    </tr>\n",
       "    <tr>\n",
       "      <th>3</th>\n",
       "      <td>2004-11-19 09:45:00</td>\n",
       "      <td>5637.88</td>\n",
       "      <td>NaN</td>\n",
       "    </tr>\n",
       "    <tr>\n",
       "      <th>4</th>\n",
       "      <td>2004-11-19 09:50:00</td>\n",
       "      <td>5520.69</td>\n",
       "      <td>NaN</td>\n",
       "    </tr>\n",
       "  </tbody>\n",
       "</table>\n",
       "</div>"
      ],
      "text/plain": [
       "                  Time  \\\n",
       "0  2004-11-19 09:30:00   \n",
       "1  2004-11-19 09:35:00   \n",
       "2  2004-11-19 09:40:00   \n",
       "3  2004-11-19 09:45:00   \n",
       "4  2004-11-19 09:50:00   \n",
       "\n",
       "  Internet traffic data (in bits) from an ISP. Aggregated traffic in the United Kingdom academic network backbone. It was collected between 19 November 2004, at 09:30 hours and 27 January 2005, at 11:11 hours. Data collected at five minute intervals.  \\\n",
       "0                                            4838.66                                                                                                                                                                                                         \n",
       "1                                            4845.18                                                                                                                                                                                                         \n",
       "2                                               5158                                                                                                                                                                                                         \n",
       "3                                            5637.88                                                                                                                                                                                                         \n",
       "4                                            5520.69                                                                                                                                                                                                         \n",
       "\n",
       "  Unnamed: 2  \n",
       "0        NaN  \n",
       "1        NaN  \n",
       "2        NaN  \n",
       "3        NaN  \n",
       "4        NaN  "
      ]
     },
     "execution_count": 18,
     "metadata": {},
     "output_type": "execute_result"
    }
   ],
   "source": [
    "df1=x1.parse('internet-traffic-data-in-bits-f')\n",
    "df1.shape\n",
    "df1.head()"
   ]
  },
  {
   "cell_type": "code",
   "execution_count": 19,
   "metadata": {},
   "outputs": [],
   "source": [
    "steps = df1.loc[:,'Internet traffic data (in bits) from an ISP. Aggregated traffic in the United Kingdom academic network backbone. It was collected between 19 November 2004, at 09:30 hours and 27 January 2005, at 11:11 hours. Data collected at five minute intervals.'].tolist()"
   ]
  },
  {
   "cell_type": "code",
   "execution_count": 20,
   "metadata": {},
   "outputs": [],
   "source": [
    "steps=steps[:19875]\n",
    "number_steps=12"
   ]
  },
  {
   "cell_type": "code",
   "execution_count": 21,
   "metadata": {},
   "outputs": [],
   "source": [
    "trainX =np.array([steps[i:i+number_steps] for i in range(len(steps)-number_steps-1)])\n",
    "trainY=np.array([steps[i+1:i+number_steps+1] for i in range(len(steps)-number_steps-1)])\n",
    "testX=trainX[0:4000]\n",
    "trainX=trainX[4000:]\n",
    "testY=trainY[0:4000]\n",
    "trainY=trainY[4000:]"
   ]
  },
  {
   "cell_type": "code",
   "execution_count": 22,
   "metadata": {},
   "outputs": [
    {
     "data": {
      "text/plain": [
       "(15862, 12, 1)"
      ]
     },
     "execution_count": 22,
     "metadata": {},
     "output_type": "execute_result"
    }
   ],
   "source": [
    "trainX=trainX.reshape(-1,number_steps,1)\n",
    "testX=testX.reshape(-1,number_steps,1)\n",
    "trainY=trainY.reshape(-1,number_steps,1)\n",
    "testY=testY.reshape(-1,number_steps,1)\n",
    "trainX.shape\n"
   ]
  },
  {
   "cell_type": "code",
   "execution_count": 23,
   "metadata": {},
   "outputs": [
    {
     "name": "stdout",
     "output_type": "stream",
     "text": [
      "WARNING:tensorflow:From <ipython-input-23-d5b90301b1e3>:7: BasicRNNCell.__init__ (from tensorflow.python.ops.rnn_cell_impl) is deprecated and will be removed in a future version.\n",
      "Instructions for updating:\n",
      "This class is equivalent as tf.keras.layers.SimpleRNNCell, and will be replaced by that in Tensorflow 2.0.\n"
     ]
    }
   ],
   "source": [
    "n_steps=number_steps\n",
    "n_inputs=1\n",
    "n_neurons=200\n",
    "n_outputs=1\n",
    "x=tf.placeholder(tf.float32,[None,n_steps,n_inputs])\n",
    "y=tf.placeholder(tf.float32,[None,n_steps,n_inputs])\n",
    "cell = tf.contrib.rnn.OutputProjectionWrapper(tf.contrib.rnn.BasicRNNCell(num_units=n_neurons, activation=tf.nn.relu),output_size=1)\n",
    "outputs, states = tf.nn.dynamic_rnn(cell,x,dtype=tf.float32)"
   ]
  },
  {
   "cell_type": "code",
   "execution_count": 214,
   "metadata": {},
   "outputs": [],
   "source": [
    "learning_rate=0.01\n",
    "batch_size=1000\n",
    "loss = tf.reduce_mean(tf.square(outputs-y))\n",
    "optimizer=tf.train.AdamOptimizer(learning_rate=learning_rate)\n",
    "training_op=optimizer.minimize(loss)\n",
    "n_iterations=100\n",
    "mse=[]\n",
    "mset=[]\n",
    "init = tf.global_variables_initializer()"
   ]
  },
  {
   "cell_type": "code",
   "execution_count": 215,
   "metadata": {
    "scrolled": true
   },
   "outputs": [
    {
     "name": "stdout",
     "output_type": "stream",
     "text": [
      "[2300.906995078245]\n",
      "1\n",
      "[2772.1340155194516]\n",
      "2\n",
      "[2567.3758003066087]\n",
      "3\n",
      "[1558.518366911343]\n",
      "4\n",
      "[2570.5737686360994]\n",
      "5\n",
      "[1028.9427219238203]\n",
      "6\n",
      "[1600.1791305975717]\n",
      "7\n",
      "[1777.1135304194834]\n",
      "8\n",
      "[1675.2863188123993]\n",
      "9\n",
      "[1365.1950410106242]\n",
      "10\n",
      "[909.6585554481418]\n",
      "11\n",
      "[718.2106889694695]\n",
      "12\n",
      "[1133.7609977415875]\n",
      "13\n",
      "[1135.0220262179937]\n",
      "14\n",
      "[763.3585740004497]\n",
      "15\n",
      "[532.7053301310209]\n",
      "16\n",
      "[619.6025439747646]\n",
      "17\n",
      "[741.492708999893]\n",
      "18\n",
      "[781.2854391962005]\n",
      "19\n",
      "[719.5991722827368]\n",
      "20\n",
      "[580.702510972701]\n",
      "21\n",
      "[410.0156247022789]\n",
      "22\n",
      "[317.61279984440176]\n",
      "23\n",
      "[400.48468681711165]\n",
      "24\n",
      "[504.6295516267354]\n",
      "25\n",
      "[506.0544220980585]\n",
      "26\n",
      "[382.89495540552633]\n",
      "27\n",
      "[220.44766243940987]\n",
      "28\n",
      "[263.8089241051182]\n",
      "29\n",
      "[343.15374424228565]\n",
      "30\n",
      "[325.1009458614355]\n",
      "31\n",
      "[253.87329209174408]\n",
      "32\n",
      "[179.03170546721606]\n",
      "33\n",
      "[191.0173625943464]\n",
      "34\n",
      "[182.26337399488685]\n",
      "35\n",
      "[171.56910278733173]\n",
      "36\n",
      "[171.89537947360597]\n",
      "37\n",
      "[168.8955506555753]\n",
      "38\n",
      "[164.6624032110852]\n",
      "39\n",
      "[163.6852269315255]\n",
      "40\n",
      "[165.9509351905707]\n",
      "41\n",
      "[168.06366794871224]\n",
      "42\n",
      "[168.86750538513914]\n",
      "43\n",
      "[168.8652152975858]\n",
      "44\n",
      "[166.31291102918019]\n",
      "45\n",
      "[165.42381649115703]\n",
      "46\n",
      "[164.66497118201855]\n",
      "47\n",
      "[163.1968651563963]\n",
      "48\n",
      "[163.36401909348032]\n",
      "49\n",
      "[162.50495785706048]\n",
      "50\n",
      "[162.55868531664188]\n",
      "51\n",
      "[161.90680189541143]\n",
      "52\n",
      "[160.70631453446376]\n",
      "53\n",
      "[159.36054468758883]\n",
      "54\n",
      "[157.82498094210246]\n",
      "55\n",
      "[156.12567553897085]\n",
      "56\n",
      "[153.7136008743208]\n",
      "57\n",
      "[151.53105988336188]\n",
      "58\n",
      "[149.71422647622703]\n",
      "59\n",
      "[147.62057439386626]\n",
      "60\n",
      "[146.32324554731554]\n",
      "61\n",
      "[145.5088189981968]\n",
      "62\n",
      "[144.55764961599232]\n",
      "63\n",
      "[144.47621587349593]\n",
      "64\n",
      "[144.25439361809748]\n",
      "65\n",
      "[144.30433876879795]\n",
      "66\n",
      "[144.49991214313937]\n",
      "67\n",
      "[145.051937088496]\n",
      "68\n",
      "[144.75749521829604]\n",
      "69\n",
      "[145.4171867528904]\n",
      "70\n",
      "[144.4354648818115]\n",
      "71\n",
      "[145.24394216068015]\n",
      "72\n",
      "[144.62828837013527]\n",
      "73\n",
      "[144.42675614519976]\n",
      "74\n",
      "[145.1036334938757]\n",
      "75\n",
      "[144.48258978160655]\n",
      "76\n",
      "[144.3043929078391]\n",
      "77\n",
      "[144.48405648418444]\n",
      "78\n",
      "[144.4315771178519]\n",
      "79\n",
      "[144.2757978989373]\n",
      "80\n",
      "[144.29627182467328]\n",
      "81\n",
      "[144.17734711762108]\n",
      "82\n",
      "[144.01407808787306]\n",
      "83\n",
      "[143.95347691398428]\n",
      "84\n",
      "[143.8138037750549]\n",
      "85\n",
      "[143.6732607668351]\n",
      "86\n",
      "[143.86898608195582]\n",
      "87\n",
      "[144.0170549253629]\n",
      "88\n",
      "[143.39907573577662]\n",
      "89\n",
      "[143.56773091253828]\n",
      "90\n",
      "[143.84540991329894]\n",
      "91\n",
      "[143.3854003965362]\n",
      "92\n",
      "[143.2204035198023]\n",
      "93\n",
      "[143.68614070692414]\n",
      "94\n",
      "[143.91975710226515]\n",
      "95\n",
      "[143.42449559785803]\n",
      "96\n",
      "[143.1156519873001]\n",
      "97\n",
      "[143.27291756033307]\n",
      "98\n",
      "[143.4394335381662]\n",
      "99\n",
      "[143.33582316757037]\n",
      "100\n"
     ]
    }
   ],
   "source": [
    "with tf.Session() as sess:\n",
    "    init.run()\n",
    "    for iteration in range(n_iterations):\n",
    "        indexes=np.random.choice(list(range(len(trainX))),batch_size)\n",
    "        sess.run(training_op, feed_dict={x: trainX[indexes], y: trainY[indexes]})\n",
    "        print([sqrt(loss.eval(feed_dict={x: testX, y: testY}))])\n",
    "        if iteration %1 == 0:\n",
    "            mset.append([sqrt(loss.eval(feed_dict={x: testX, y: testY}))])\n",
    "            mse.append(sqrt(loss.eval(feed_dict={x:trainX,y:trainY})))\n",
    "            print(len(mse))\n"
   ]
  },
  {
   "cell_type": "code",
   "execution_count": 216,
   "metadata": {},
   "outputs": [
    {
     "data": {
      "image/png": "[encoded data removed]",
      "text/plain": [
       "<Figure size 792x288 with 1 Axes>"
      ]
     },
     "metadata": {
      "needs_background": "light"
     },
     "output_type": "display_data"
    }
   ],
   "source": [
    "\n",
    "iterations=np.arange(len(mse))\n",
    "\n",
    "plt.figure(figsize=(11,4))\n",
    "plt.subplot(121)\n",
    "plt.title(\"Batch Size 50\", fontsize=14)\n",
    "plt.xlabel(\"Batch Number\")\n",
    "plt.ylabel(\"RMSE\")\n",
    "plt.plot(mset1 ,label=\"SGD\")\n",
    "plt.plot(mset ,label=\"ADAM\")\n",
    "plt.legend(loc=\"upper left\")\n",
    "plt.show()"
   ]
  }
 ],
 "metadata": {
  "kernelspec": {
   "display_name": "Python 3",
   "language": "python",
   "name": "python3"
  },
  "language_info": {
   "codemirror_mode": {
    "name": "ipython",
    "version": 3
   },
   "file_extension": ".py",
   "mimetype": "text/x-python",
   "name": "python",
   "nbconvert_exporter": "python",
   "pygments_lexer": "ipython3",
   "version": "3.7.3"
  }
 },
 "nbformat": 4,
 "nbformat_minor": 2
}
