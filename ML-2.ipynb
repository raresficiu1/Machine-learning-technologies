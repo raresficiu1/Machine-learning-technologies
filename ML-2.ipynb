{
 "cells": [
  {
   "cell_type": "code",
   "execution_count": 1,
   "metadata": {},
   "outputs": [],
   "source": [
    "import sklearn.datasets as sk\n",
    "import sklearn.model_selection as skm\n",
    "from sklearn.tree import DecisionTreeClassifier\n",
    "import numpy as np\n",
    "from sklearn.metrics import f1_score\n",
    "from sklearn.ensemble import RandomForestClassifier\n",
    "from skimage import data, io, filters\n",
    "import pandas as pd\n",
    "import tensorflow as tf\n",
    "from math import sqrt"
   ]
  },
  {
   "cell_type": "code",
   "execution_count": 2,
   "metadata": {
    "scrolled": true
   },
   "outputs": [
    {
     "name": "stdout",
     "output_type": "stream",
     "text": [
      "/home/zaioox/Downloads\n"
     ]
    }
   ],
   "source": [
    "cd ../../Downloads"
   ]
  },
  {
   "cell_type": "code",
   "execution_count": 3,
   "metadata": {},
   "outputs": [],
   "source": [
    "digits = sk.load_digits(n_class=10, return_X_y=False)"
   ]
  },
  {
   "cell_type": "code",
   "execution_count": 4,
   "metadata": {},
   "outputs": [],
   "source": [
    "x_train, x_test, y_train, y_test = skm.train_test_split(digits['data'],digits['target'],test_size=0.2205)"
   ]
  },
  {
   "cell_type": "code",
   "execution_count": 5,
   "metadata": {},
   "outputs": [],
   "source": [
    "decision_tree=DecisionTreeClassifier(max_depth=14)"
   ]
  },
  {
   "cell_type": "code",
   "execution_count": 6,
   "metadata": {},
   "outputs": [
    {
     "name": "stdout",
     "output_type": "stream",
     "text": [
      "0.853904282115869 1.0\n"
     ]
    }
   ],
   "source": [
    "decision_tree.fit(x_train,y_train)\n",
    "a1=decision_tree.predict(x_test)\n",
    "b1=decision_tree.predict(x_train)\n",
    "test1=f1_score(y_test,a1,average='micro')\n",
    "train1=f1_score(y_train,b1,average='micro')\n",
    "print(test1,train1)"
   ]
  },
  {
   "cell_type": "code",
   "execution_count": 7,
   "metadata": {},
   "outputs": [
    {
     "name": "stdout",
     "output_type": "stream",
     "text": [
      "0.9773299748110831 1.0\n"
     ]
    }
   ],
   "source": [
    "rnd_clf=RandomForestClassifier(n_estimators=100,max_depth=14,n_jobs=-1)\n",
    "rnd_clf.fit(x_train,y_train)\n",
    "a=rnd_clf.predict(x_test)\n",
    "b=rnd_clf.predict(x_train)\n",
    "test=f1_score(y_test,a,average='micro')\n",
    "train=f1_score(y_train,b,average='micro')\n",
    "print(test,train)"
   ]
  },
  {
   "cell_type": "code",
   "execution_count": 8,
   "metadata": {},
   "outputs": [],
   "source": [
    "x_train1=x_train.reshape(5,280,64)\n",
    "y_train1=y_train.reshape(5,280)"
   ]
  },
  {
   "cell_type": "code",
   "execution_count": 9,
   "metadata": {},
   "outputs": [],
   "source": [
    "decisionforrest=[]\n",
    "decisionforrestPredictions=[0,1,2,3,4]\n",
    "for i in range(5):\n",
    "    decisionforrest.append(DecisionTreeClassifier(max_depth=14))\n",
    "    decisionforrest[i].fit(x_train1[i],y_train1[i])\n",
    "    decisionforrestPredictions[i]=decisionforrest[i].predict(x_test)\n",
    "decisionforrestPredictions=np.array(decisionforrestPredictions)\n",
    "y_predicted=np.zeros(decisionforrestPredictions.shape[1])\n",
    "\n",
    "for i in range(decisionforrestPredictions.shape[1]):\n",
    "    y_predicted_helper=np.zeros(10)\n",
    "    for j in range(decisionforrestPredictions.shape[0]):\n",
    "        y_predicted_helper[decisionforrestPredictions[j][i]]+=1\n",
    "    max=0\n",
    "    index=0\n",
    "    for j in range(10):\n",
    "        if(y_predicted_helper[j]>max):\n",
    "            max=y_predicted_helper[j]\n",
    "            index=j\n",
    "    y_predicted[i]=index"
   ]
  },
  {
   "cell_type": "code",
   "execution_count": 10,
   "metadata": {},
   "outputs": [
    {
     "name": "stdout",
     "output_type": "stream",
     "text": [
      "With 5 trees the f1_score is:  0.8614609571788413  with 1 tree the f1_score is  0.853904282115869\n"
     ]
    }
   ],
   "source": [
    "print(\"With 5 trees the f1_score is: \",f1_score(y_test,y_predicted,average='micro'),\" with 1 tree the f1_score is \", test1)"
   ]
  },
  {
   "cell_type": "code",
   "execution_count": 11,
   "metadata": {},
   "outputs": [],
   "source": [
    "pictureX=[]\n",
    "trueVals=[]\n",
    "for i in range(len(y_test)):\n",
    "    if(a[i]!=y_test[i]):\n",
    "        pictureX.append(x_test[i].reshape(8,8))\n",
    "        trueVals.append(y_test[i])\n"
   ]
  },
  {
   "cell_type": "code",
   "execution_count": 12,
   "metadata": {},
   "outputs": [
    {
     "name": "stdout",
     "output_type": "stream",
     "text": [
      "This image is a : 2\n"
     ]
    },
    {
     "name": "stderr",
     "output_type": "stream",
     "text": [
      "/home/zaioox/.conda/envs/env/lib/python3.6/site-packages/skimage/io/_plugins/matplotlib_plugin.py:80: UserWarning: Float image out of standard range; displaying image with stretched contrast.\n",
      "  warn(\"Float image out of standard range; displaying \"\n"
     ]
    },
    {
     "data": {
      "text/plain": [
       "<matplotlib.image.AxesImage at 0x7f3501eb83c8>"
      ]
     },
     "execution_count": 12,
     "metadata": {},
     "output_type": "execute_result"
    },
    {
     "data": {
      "image/png": "[encoded data removed]",
      "text/plain": [
       "<Figure size 432x288 with 2 Axes>"
      ]
     },
     "metadata": {
      "needs_background": "light"
     },
     "output_type": "display_data"
    }
   ],
   "source": [
    "print(\"This image is a :\",trueVals[0])\n",
    "io.imshow(pictureX[0])"
   ]
  },
  {
   "cell_type": "code",
   "execution_count": 13,
   "metadata": {},
   "outputs": [
    {
     "name": "stdout",
     "output_type": "stream",
     "text": [
      "This image is a : 9\n"
     ]
    },
    {
     "data": {
      "text/plain": [
       "<matplotlib.image.AxesImage at 0x7f3501f3bb70>"
      ]
     },
     "execution_count": 13,
     "metadata": {},
     "output_type": "execute_result"
    },
    {
     "data": {
      "image/png": "[encoded data removed]",
      "text/plain": [
       "<Figure size 432x288 with 2 Axes>"
      ]
     },
     "metadata": {
      "needs_background": "light"
     },
     "output_type": "display_data"
    }
   ],
   "source": [
    "print(\"This image is a :\",trueVals[1])\n",
    "io.imshow(pictureX[1])"
   ]
  },
  {
   "cell_type": "code",
   "execution_count": 14,
   "metadata": {},
   "outputs": [
    {
     "name": "stdout",
     "output_type": "stream",
     "text": [
      "This image is a : 0\n"
     ]
    },
    {
     "data": {
      "text/plain": [
       "<matplotlib.image.AxesImage at 0x7f354585c710>"
      ]
     },
     "execution_count": 14,
     "metadata": {},
     "output_type": "execute_result"
    },
    {
     "data": {
      "image/png": "[encoded data removed]",
      "text/plain": [
       "<Figure size 432x288 with 2 Axes>"
      ]
     },
     "metadata": {
      "needs_background": "light"
     },
     "output_type": "display_data"
    }
   ],
   "source": [
    "print(\"This image is a :\",trueVals[2])\n",
    "io.imshow(pictureX[2])"
   ]
  },
  {
   "cell_type": "code",
   "execution_count": 15,
   "metadata": {},
   "outputs": [
    {
     "name": "stdout",
     "output_type": "stream",
     "text": [
      "This image is a : 8\n"
     ]
    },
    {
     "data": {
      "text/plain": [
       "<matplotlib.image.AxesImage at 0x7f354578a2b0>"
      ]
     },
     "execution_count": 15,
     "metadata": {},
     "output_type": "execute_result"
    },
    {
     "data": {
      "image/png": "[encoded data removed]",
      "text/plain": [
       "<Figure size 432x288 with 2 Axes>"
      ]
     },
     "metadata": {
      "needs_background": "light"
     },
     "output_type": "display_data"
    }
   ],
   "source": [
    "print(\"This image is a :\",trueVals[3])\n",
    "io.imshow(pictureX[3])"
   ]
  },
  {
   "cell_type": "code",
   "execution_count": 16,
   "metadata": {},
   "outputs": [],
   "source": [
    "file='internet-traffic-data-in-bits-fr.xlsx'"
   ]
  },
  {
   "cell_type": "code",
   "execution_count": 17,
   "metadata": {},
   "outputs": [],
   "source": [
    "x1=pd.ExcelFile(file)"
   ]
  },
  {
   "cell_type": "code",
   "execution_count": 18,
   "metadata": {},
   "outputs": [
    {
     "data": {
      "text/html": [
       "<div>\n",
       "<style scoped>\n",
       "    .dataframe tbody tr th:only-of-type {\n",
       "        vertical-align: middle;\n",
       "    }\n",
       "\n",
       "    .dataframe tbody tr th {\n",
       "        vertical-align: top;\n",
       "    }\n",
       "\n",
       "    .dataframe thead th {\n",
       "        text-align: right;\n",
       "    }\n",
       "</style>\n",
       "<table border=\"1\" class=\"dataframe\">\n",
       "  <thead>\n",
       "    <tr style=\"text-align: right;\">\n",
       "      <th></th>\n",
       "      <th>Time</th>\n",
       "      <th>Internet traffic data (in bits) from an ISP. Aggregated traffic in the United Kingdom academic network backbone. It was collected between 19 November 2004, at 09:30 hours and 27 January 2005, at 11:11 hours. Data collected at five minute intervals.</th>\n",
       "      <th>Unnamed: 2</th>\n",
       "    </tr>\n",
       "  </thead>\n",
       "  <tbody>\n",
       "    <tr>\n",
       "      <th>0</th>\n",
       "      <td>2004-11-19 09:30:00</td>\n",
       "      <td>4838.66</td>\n",
       "      <td>NaN</td>\n",
       "    </tr>\n",
       "    <tr>\n",
       "      <th>1</th>\n",
       "      <td>2004-11-19 09:35:00</td>\n",
       "      <td>4845.18</td>\n",
       "      <td>NaN</td>\n",
       "    </tr>\n",
       "    <tr>\n",
       "      <th>2</th>\n",
       "      <td>2004-11-19 09:40:00</td>\n",
       "      <td>5158</td>\n",
       "      <td>NaN</td>\n",
       "    </tr>\n",
       "    <tr>\n",
       "      <th>3</th>\n",
       "      <td>2004-11-19 09:45:00</td>\n",
       "      <td>5637.88</td>\n",
       "      <td>NaN</td>\n",
       "    </tr>\n",
       "    <tr>\n",
       "      <th>4</th>\n",
       "      <td>2004-11-19 09:50:00</td>\n",
       "      <td>5520.69</td>\n",
       "      <td>NaN</td>\n",
       "    </tr>\n",
       "  </tbody>\n",
       "</table>\n",
       "</div>"
      ],
      "text/plain": [
       "                  Time  \\\n",
       "0  2004-11-19 09:30:00   \n",
       "1  2004-11-19 09:35:00   \n",
       "2  2004-11-19 09:40:00   \n",
       "3  2004-11-19 09:45:00   \n",
       "4  2004-11-19 09:50:00   \n",
       "\n",
       "  Internet traffic data (in bits) from an ISP. Aggregated traffic in the United Kingdom academic network backbone. It was collected between 19 November 2004, at 09:30 hours and 27 January 2005, at 11:11 hours. Data collected at five minute intervals.  \\\n",
       "0                                            4838.66                                                                                                                                                                                                         \n",
       "1                                            4845.18                                                                                                                                                                                                         \n",
       "2                                               5158                                                                                                                                                                                                         \n",
       "3                                            5637.88                                                                                                                                                                                                         \n",
       "4                                            5520.69                                                                                                                                                                                                         \n",
       "\n",
       "  Unnamed: 2  \n",
       "0        NaN  \n",
       "1        NaN  \n",
       "2        NaN  \n",
       "3        NaN  \n",
       "4        NaN  "
      ]
     },
     "execution_count": 18,
     "metadata": {},
     "output_type": "execute_result"
    }
   ],
   "source": [
    "df1=x1.parse('internet-traffic-data-in-bits-f')\n",
    "df1.shape\n",
    "df1.head()"
   ]
  },
  {
   "cell_type": "code",
   "execution_count": 19,
   "metadata": {},
   "outputs": [],
   "source": [
    "steps = df1.loc[:,'Internet traffic data (in bits) from an ISP. Aggregated traffic in the United Kingdom academic network backbone. It was collected between 19 November 2004, at 09:30 hours and 27 January 2005, at 11:11 hours. Data collected at five minute intervals.'].tolist()"
   ]
  },
  {
   "cell_type": "code",
   "execution_count": 20,
   "metadata": {},
   "outputs": [],
   "source": [
    "steps=steps[:19875]\n",
    "number_steps=10"
   ]
  },
  {
   "cell_type": "code",
   "execution_count": 21,
   "metadata": {},
   "outputs": [],
   "source": [
    "trainX =np.array([steps[i:i+number_steps] for i in range(len(steps)-number_steps-1)])\n",
    "trainY=np.array([steps[i+1:i+number_steps+1] for i in range(len(steps)-number_steps-1)])\n",
    "testX=trainX[0:4000]\n",
    "trainX=trainX[4000:]\n",
    "testY=trainY[0:4000]\n",
    "trainY=trainY[4000:]"
   ]
  },
  {
   "cell_type": "code",
   "execution_count": 22,
   "metadata": {},
   "outputs": [],
   "source": [
    "trainX=trainX.reshape(-1,number_steps,1)\n",
    "testX=testX.reshape(-1,number_steps,1)\n",
    "trainY=trainY.reshape(-1,number_steps,1)\n",
    "testY=testY.reshape(-1,number_steps,1)\n"
   ]
  },
  {
   "cell_type": "code",
   "execution_count": null,
   "metadata": {},
   "outputs": [],
   "source": []
  },
  {
   "cell_type": "code",
   "execution_count": 23,
   "metadata": {},
   "outputs": [
    {
     "name": "stdout",
     "output_type": "stream",
     "text": [
      "WARNING:tensorflow:From <ipython-input-23-0e8b8d20d378>:7: BasicRNNCell.__init__ (from tensorflow.python.ops.rnn_cell_impl) is deprecated and will be removed in a future version.\n",
      "Instructions for updating:\n",
      "This class is equivalent as tf.keras.layers.SimpleRNNCell, and will be replaced by that in Tensorflow 2.0.\n"
     ]
    }
   ],
   "source": [
    "n_steps=number_steps\n",
    "n_inputs=1\n",
    "n_neurons=500\n",
    "n_outputs=1\n",
    "x=tf.placeholder(tf.float32,[None,n_steps,n_inputs])\n",
    "y=tf.placeholder(tf.float32,[None,n_steps,n_inputs])\n",
    "cell = tf.contrib.rnn.OutputProjectionWrapper(tf.contrib.rnn.BasicRNNCell(num_units=n_neurons, activation=tf.nn.relu),output_size=1)\n",
    "outputs, states = tf.nn.dynamic_rnn(cell,x,dtype=tf.float32)"
   ]
  },
  {
   "cell_type": "code",
   "execution_count": 31,
   "metadata": {},
   "outputs": [],
   "source": [
    "learning_rate=0.001\n",
    "loss = tf.reduce_mean(tf.square(outputs-y))\n",
    "optimizer=tf.train.AdamOptimizer(learning_rate=learning_rate)\n",
    "training_op=optimizer.minimize(loss)\n",
    "n_iterations=10000\n",
    "init = tf.global_variables_initializer()"
   ]
  },
  {
   "cell_type": "code",
   "execution_count": 32,
   "metadata": {
    "scrolled": true
   },
   "outputs": [
    {
     "name": "stdout",
     "output_type": "stream",
     "text": [
      "0 \tRMSE: 4453.804890203432 3311.786375960865\n",
      "50 \tRMSE: 1028.7097501239114 761.5592557378578\n",
      "100 \tRMSE: 416.4724818340343 302.4519719104175\n",
      "150 \tRMSE: 154.4114266234044 95.23652709832504\n",
      "200 \tRMSE: 147.8051464872756 89.28484307610671\n",
      "250 \tRMSE: 141.2465500131773 82.63266735888264\n",
      "300 \tRMSE: 143.239582954573 84.13443715640463\n",
      "350 \tRMSE: 142.20267776135583 83.21760877456315\n",
      "400 \tRMSE: 149.78729058860435 89.6329320060434\n",
      "450 \tRMSE: 141.72991618082966 82.5068060639545\n",
      "500 \tRMSE: 147.40457718469938 88.22690251915796\n",
      "550 \tRMSE: 140.6150274241697 81.40789645647865\n",
      "600 \tRMSE: 141.0571969539307 81.75754337330287\n",
      "650 \tRMSE: 142.70923509447454 83.59017807789232\n",
      "700 \tRMSE: 147.1545146160151 87.22899438224368\n",
      "750 \tRMSE: 141.7349735752436 82.71223883516272\n",
      "800 \tRMSE: 139.46028780624255 80.42404097772942\n",
      "850 \tRMSE: 140.53176075624327 81.43452004332991\n",
      "900 \tRMSE: 143.72200134939325 84.27611972242642\n",
      "950 \tRMSE: 142.10229589982 83.11640580572826\n"
     ]
    }
   ],
   "source": [
    "with tf.Session() as sess:\n",
    "    init.run()\n",
    "    for iteration in range(1000):\n",
    "        indexes=np.random.choice(list(range(len(trainX))),32)\n",
    "        sess.run(training_op, feed_dict={x: trainX[indexes], y: trainY[indexes]})\n",
    "        if iteration %50 == 0:\n",
    "            mse = loss.eval(feed_dict={x: testX, y: testY})\n",
    "            mset = loss.eval(feed_dict={x:trainX,y:trainY})\n",
    "            print(iteration, \"\\tRMSE:\", sqrt(mse) ,sqrt(mset))"
   ]
  },
  {
   "cell_type": "code",
   "execution_count": null,
   "metadata": {},
   "outputs": [],
   "source": []
  },
  {
   "cell_type": "code",
   "execution_count": null,
   "metadata": {},
   "outputs": [],
   "source": []
  },
  {
   "cell_type": "code",
   "execution_count": null,
   "metadata": {},
   "outputs": [],
   "source": []
  },
  {
   "cell_type": "code",
   "execution_count": null,
   "metadata": {},
   "outputs": [],
   "source": []
  },
  {
   "cell_type": "code",
   "execution_count": null,
   "metadata": {},
   "outputs": [],
   "source": []
  },
  {
   "cell_type": "code",
   "execution_count": null,
   "metadata": {},
   "outputs": [],
   "source": []
  },
  {
   "cell_type": "code",
   "execution_count": null,
   "metadata": {},
   "outputs": [],
   "source": []
  },
  {
   "cell_type": "code",
   "execution_count": null,
   "metadata": {},
   "outputs": [],
   "source": []
  },
  {
   "cell_type": "code",
   "execution_count": null,
   "metadata": {},
   "outputs": [],
   "source": []
  },
  {
   "cell_type": "code",
   "execution_count": null,
   "metadata": {},
   "outputs": [],
   "source": []
  }
 ],
 "metadata": {
  "kernelspec": {
   "display_name": "Python 3",
   "language": "python",
   "name": "python3"
  },
  "language_info": {
   "codemirror_mode": {
    "name": "ipython",
    "version": 3
   },
   "file_extension": ".py",
   "mimetype": "text/x-python",
   "name": "python",
   "nbconvert_exporter": "python",
   "pygments_lexer": "ipython3",
   "version": "3.7.3"
  }
 },
 "nbformat": 4,
 "nbformat_minor": 2
}
